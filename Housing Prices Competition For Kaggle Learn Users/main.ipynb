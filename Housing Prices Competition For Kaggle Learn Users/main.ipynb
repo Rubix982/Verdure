{
 "nbformat": 4,
 "nbformat_minor": 2,
 "metadata": {
  "language_info": {
   "name": "python",
   "codemirror_mode": {
    "name": "ipython",
    "version": 3
   },
   "version": "3.8.1-final"
  },
  "orig_nbformat": 2,
  "file_extension": ".py",
  "mimetype": "text/x-python",
  "name": "python",
  "npconvert_exporter": "python",
  "pygments_lexer": "ipython3",
  "version": 3,
  "kernelspec": {
   "name": "python38164bitc54e8ca2f74f458794126d56d82a9495",
   "display_name": "Python 3.8.1 64-bit"
  }
 },
 "cells": [
  {
   "cell_type": "code",
   "execution_count": 173,
   "metadata": {},
   "outputs": [],
   "source": [
    "# ? Import the necessary packages\n",
    "\n",
    "# * Import models from sklearn\n",
    "from sklearn.metrics import mean_absolute_error\n",
    "from sklearn.model_selection import train_test_split\n",
    "from sklearn.tree import DecisionTreeRegressor\n",
    "\n",
    "# import pandas\n",
    "import pandas as pd\n",
    "\n",
    "# import numpy\n",
    "import numpy as np"
   ]
  },
  {
   "cell_type": "code",
   "execution_count": 180,
   "metadata": {},
   "outputs": [
    {
     "data": {
      "text/html": "<div>\n<style scoped>\n    .dataframe tbody tr th:only-of-type {\n        vertical-align: middle;\n    }\n\n    .dataframe tbody tr th {\n        vertical-align: top;\n    }\n\n    .dataframe thead th {\n        text-align: right;\n    }\n</style>\n<table border=\"1\" class=\"dataframe\">\n  <thead>\n    <tr style=\"text-align: right;\">\n      <th></th>\n      <th>0</th>\n      <th>1</th>\n      <th>2</th>\n      <th>3</th>\n      <th>4</th>\n      <th>5</th>\n      <th>6</th>\n      <th>7</th>\n      <th>8</th>\n      <th>9</th>\n      <th>...</th>\n      <th>70</th>\n      <th>71</th>\n      <th>72</th>\n      <th>73</th>\n      <th>74</th>\n      <th>75</th>\n      <th>76</th>\n      <th>77</th>\n      <th>78</th>\n      <th>79</th>\n    </tr>\n  </thead>\n  <tbody>\n    <tr>\n      <th>0</th>\n      <td>60</td>\n      <td>RL</td>\n      <td>65.0</td>\n      <td>8450</td>\n      <td>Pave</td>\n      <td>NaN</td>\n      <td>Reg</td>\n      <td>Lvl</td>\n      <td>AllPub</td>\n      <td>Inside</td>\n      <td>...</td>\n      <td>0</td>\n      <td>NaN</td>\n      <td>NaN</td>\n      <td>NaN</td>\n      <td>0</td>\n      <td>2</td>\n      <td>2008</td>\n      <td>WD</td>\n      <td>Normal</td>\n      <td>208500</td>\n    </tr>\n    <tr>\n      <th>1</th>\n      <td>20</td>\n      <td>RL</td>\n      <td>80.0</td>\n      <td>9600</td>\n      <td>Pave</td>\n      <td>NaN</td>\n      <td>Reg</td>\n      <td>Lvl</td>\n      <td>AllPub</td>\n      <td>FR2</td>\n      <td>...</td>\n      <td>0</td>\n      <td>NaN</td>\n      <td>NaN</td>\n      <td>NaN</td>\n      <td>0</td>\n      <td>5</td>\n      <td>2007</td>\n      <td>WD</td>\n      <td>Normal</td>\n      <td>181500</td>\n    </tr>\n    <tr>\n      <th>2</th>\n      <td>60</td>\n      <td>RL</td>\n      <td>68.0</td>\n      <td>11250</td>\n      <td>Pave</td>\n      <td>NaN</td>\n      <td>IR1</td>\n      <td>Lvl</td>\n      <td>AllPub</td>\n      <td>Inside</td>\n      <td>...</td>\n      <td>0</td>\n      <td>NaN</td>\n      <td>NaN</td>\n      <td>NaN</td>\n      <td>0</td>\n      <td>9</td>\n      <td>2008</td>\n      <td>WD</td>\n      <td>Normal</td>\n      <td>223500</td>\n    </tr>\n    <tr>\n      <th>3</th>\n      <td>70</td>\n      <td>RL</td>\n      <td>60.0</td>\n      <td>9550</td>\n      <td>Pave</td>\n      <td>NaN</td>\n      <td>IR1</td>\n      <td>Lvl</td>\n      <td>AllPub</td>\n      <td>Corner</td>\n      <td>...</td>\n      <td>0</td>\n      <td>NaN</td>\n      <td>NaN</td>\n      <td>NaN</td>\n      <td>0</td>\n      <td>2</td>\n      <td>2006</td>\n      <td>WD</td>\n      <td>Abnorml</td>\n      <td>140000</td>\n    </tr>\n    <tr>\n      <th>4</th>\n      <td>60</td>\n      <td>RL</td>\n      <td>84.0</td>\n      <td>14260</td>\n      <td>Pave</td>\n      <td>NaN</td>\n      <td>IR1</td>\n      <td>Lvl</td>\n      <td>AllPub</td>\n      <td>FR2</td>\n      <td>...</td>\n      <td>0</td>\n      <td>NaN</td>\n      <td>NaN</td>\n      <td>NaN</td>\n      <td>0</td>\n      <td>12</td>\n      <td>2008</td>\n      <td>WD</td>\n      <td>Normal</td>\n      <td>250000</td>\n    </tr>\n  </tbody>\n</table>\n<p>5 rows × 80 columns</p>\n</div>",
      "text/plain": "   0   1     2      3     4    5    6    7       8       9   ... 70   71   72  \\\n0  60  RL  65.0   8450  Pave  NaN  Reg  Lvl  AllPub  Inside  ...  0  NaN  NaN   \n1  20  RL  80.0   9600  Pave  NaN  Reg  Lvl  AllPub     FR2  ...  0  NaN  NaN   \n2  60  RL  68.0  11250  Pave  NaN  IR1  Lvl  AllPub  Inside  ...  0  NaN  NaN   \n3  70  RL  60.0   9550  Pave  NaN  IR1  Lvl  AllPub  Corner  ...  0  NaN  NaN   \n4  60  RL  84.0  14260  Pave  NaN  IR1  Lvl  AllPub     FR2  ...  0  NaN  NaN   \n\n    73 74  75    76  77       78      79  \n0  NaN  0   2  2008  WD   Normal  208500  \n1  NaN  0   5  2007  WD   Normal  181500  \n2  NaN  0   9  2008  WD   Normal  223500  \n3  NaN  0   2  2006  WD  Abnorml  140000  \n4  NaN  0  12  2008  WD   Normal  250000  \n\n[5 rows x 80 columns]"
     },
     "execution_count": 180,
     "metadata": {},
     "output_type": "execute_result"
    }
   ],
   "source": [
    "# Import the sample data\n",
    "features_to_extract = [ 'MSSubClass',\n",
    "                        'LotFrontage',\n",
    "                        'LotArea',\n",
    "                        'OverallQual',\n",
    "                        'OverallCond',\n",
    "                        'BsmtUnfSF',\n",
    "                        'TotalBsmtSF',\n",
    "                        '1stFlrSF',\n",
    "                        '2ndFlrSF',\n",
    "                        'LowQualFinSF',\n",
    "                        'GrLivArea',\n",
    "                        'GarageArea',\n",
    "                        'WoodDeckSF',\n",
    "                        'OpenPorchSF',\n",
    "                        'EnclosedPorch',\n",
    "                        'MiscVal',\n",
    "                        'SalePrice']\n",
    "\n",
    "# test_data = pd.read_csv('data/train.csv', usecols=features_to_extract)\n",
    "test_data = pd.read_csv('data/train.csv')\n",
    "\n",
    "# Show the data\n",
    "\n",
    "test_data.drop(columns='Id', inplace=True, axis=1)\n",
    "test_data.columns = range(test_data.shape[1])\n",
    "\n",
    "test_data.head()\n",
    "# test_data.dtypes.value_counts()"
   ]
  },
  {
   "cell_type": "code",
   "execution_count": 181,
   "metadata": {},
   "outputs": [
    {
     "name": "stdout",
     "output_type": "stream",
     "text": "[[ 0.  1.  2.  3.  4.  5.  6.  7.  8.  9. 10. 11. 12. 13. 14. 15. 16. 17.\n  18. 19. 20. 21. 22. 23. 24. 25. 26. 27. 28. 29. 30. 31. 32. 33. 34. 35.\n  36. 37. 38. 39. 40. 41. 42. 43. 44. 45. 46. 47. 48. 49. 50. 51. 52. 53.\n  54. 55. 56. 57. 58. 59. 60. 61. 62. 63. 64. 65. 66. 67. 68. 69. 70. 71.\n  72. 73. 74. 75. 76. 77. 78.]]\n-----------------------\n\n[[208500. 181500. 223500. ... 266500. 142125. 147500.]]\n-----------------------\n\n"
    }
   ],
   "source": [
    "# Extract data for testing and training\n",
    "train_X = [ c for c in test_data.columns if c !=79]\n",
    "train_X = np.asarray(train_X, dtype=np.float32)\n",
    "train_X = train_X.reshape(1, -1)\n",
    "print(train_X)\n",
    "print(\"-----------------------\\n\")\n",
    "\n",
    "train_y = test_data.iloc[:,-1]\n",
    "train_y = np.asarray(train_y, dtype=np.float32)\n",
    "train_y = train_y.reshape(1, -1)\n",
    "print(train_y)\n",
    "print(\"-----------------------\\n\")"
   ]
  },
  {
   "cell_type": "code",
   "execution_count": 182,
   "metadata": {},
   "outputs": [
    {
     "data": {
      "text/html": "<div>\n<style scoped>\n    .dataframe tbody tr th:only-of-type {\n        vertical-align: middle;\n    }\n\n    .dataframe tbody tr th {\n        vertical-align: top;\n    }\n\n    .dataframe thead th {\n        text-align: right;\n    }\n</style>\n<table border=\"1\" class=\"dataframe\">\n  <thead>\n    <tr style=\"text-align: right;\">\n      <th></th>\n      <th>0</th>\n      <th>1</th>\n      <th>2</th>\n      <th>3</th>\n      <th>4</th>\n      <th>5</th>\n      <th>6</th>\n      <th>7</th>\n      <th>8</th>\n      <th>9</th>\n      <th>...</th>\n      <th>69</th>\n      <th>70</th>\n      <th>71</th>\n      <th>72</th>\n      <th>73</th>\n      <th>74</th>\n      <th>75</th>\n      <th>76</th>\n      <th>77</th>\n      <th>78</th>\n    </tr>\n  </thead>\n  <tbody>\n    <tr>\n      <th>0</th>\n      <td>20</td>\n      <td>RH</td>\n      <td>80.0</td>\n      <td>11622</td>\n      <td>Pave</td>\n      <td>NaN</td>\n      <td>Reg</td>\n      <td>Lvl</td>\n      <td>AllPub</td>\n      <td>Inside</td>\n      <td>...</td>\n      <td>120</td>\n      <td>0</td>\n      <td>NaN</td>\n      <td>MnPrv</td>\n      <td>NaN</td>\n      <td>0</td>\n      <td>6</td>\n      <td>2010</td>\n      <td>WD</td>\n      <td>Normal</td>\n    </tr>\n    <tr>\n      <th>1</th>\n      <td>20</td>\n      <td>RL</td>\n      <td>81.0</td>\n      <td>14267</td>\n      <td>Pave</td>\n      <td>NaN</td>\n      <td>IR1</td>\n      <td>Lvl</td>\n      <td>AllPub</td>\n      <td>Corner</td>\n      <td>...</td>\n      <td>0</td>\n      <td>0</td>\n      <td>NaN</td>\n      <td>NaN</td>\n      <td>Gar2</td>\n      <td>12500</td>\n      <td>6</td>\n      <td>2010</td>\n      <td>WD</td>\n      <td>Normal</td>\n    </tr>\n    <tr>\n      <th>2</th>\n      <td>60</td>\n      <td>RL</td>\n      <td>74.0</td>\n      <td>13830</td>\n      <td>Pave</td>\n      <td>NaN</td>\n      <td>IR1</td>\n      <td>Lvl</td>\n      <td>AllPub</td>\n      <td>Inside</td>\n      <td>...</td>\n      <td>0</td>\n      <td>0</td>\n      <td>NaN</td>\n      <td>MnPrv</td>\n      <td>NaN</td>\n      <td>0</td>\n      <td>3</td>\n      <td>2010</td>\n      <td>WD</td>\n      <td>Normal</td>\n    </tr>\n    <tr>\n      <th>3</th>\n      <td>60</td>\n      <td>RL</td>\n      <td>78.0</td>\n      <td>9978</td>\n      <td>Pave</td>\n      <td>NaN</td>\n      <td>IR1</td>\n      <td>Lvl</td>\n      <td>AllPub</td>\n      <td>Inside</td>\n      <td>...</td>\n      <td>0</td>\n      <td>0</td>\n      <td>NaN</td>\n      <td>NaN</td>\n      <td>NaN</td>\n      <td>0</td>\n      <td>6</td>\n      <td>2010</td>\n      <td>WD</td>\n      <td>Normal</td>\n    </tr>\n    <tr>\n      <th>4</th>\n      <td>120</td>\n      <td>RL</td>\n      <td>43.0</td>\n      <td>5005</td>\n      <td>Pave</td>\n      <td>NaN</td>\n      <td>IR1</td>\n      <td>HLS</td>\n      <td>AllPub</td>\n      <td>Inside</td>\n      <td>...</td>\n      <td>144</td>\n      <td>0</td>\n      <td>NaN</td>\n      <td>NaN</td>\n      <td>NaN</td>\n      <td>0</td>\n      <td>1</td>\n      <td>2010</td>\n      <td>WD</td>\n      <td>Normal</td>\n    </tr>\n  </tbody>\n</table>\n<p>5 rows × 79 columns</p>\n</div>",
      "text/plain": "    0   1     2      3     4    5    6    7       8       9   ...   69 70  \\\n0   20  RH  80.0  11622  Pave  NaN  Reg  Lvl  AllPub  Inside  ...  120  0   \n1   20  RL  81.0  14267  Pave  NaN  IR1  Lvl  AllPub  Corner  ...    0  0   \n2   60  RL  74.0  13830  Pave  NaN  IR1  Lvl  AllPub  Inside  ...    0  0   \n3   60  RL  78.0   9978  Pave  NaN  IR1  Lvl  AllPub  Inside  ...    0  0   \n4  120  RL  43.0   5005  Pave  NaN  IR1  HLS  AllPub  Inside  ...  144  0   \n\n    71     72    73     74  75    76  77      78  \n0  NaN  MnPrv   NaN      0   6  2010  WD  Normal  \n1  NaN    NaN  Gar2  12500   6  2010  WD  Normal  \n2  NaN  MnPrv   NaN      0   3  2010  WD  Normal  \n3  NaN    NaN   NaN      0   6  2010  WD  Normal  \n4  NaN    NaN   NaN      0   1  2010  WD  Normal  \n\n[5 rows x 79 columns]"
     },
     "execution_count": 182,
     "metadata": {},
     "output_type": "execute_result"
    }
   ],
   "source": [
    "# Now, import the test data\n",
    "test_data = pd.read_csv('data/test.csv')\n",
    "\n",
    "test_data.drop(columns='Id', inplace=True, axis=1)\n",
    "test_data.columns = range(test_data.shape[1])\n",
    "\n",
    "test_data.head()"
   ]
  },
  {
   "cell_type": "code",
   "execution_count": 183,
   "metadata": {},
   "outputs": [],
   "source": [
    "test_X = [c for c in test_data.columns]\n",
    "test_X = np.asarray(test_X, dtype=np.float32)\n",
    "test_X = test_X.reshape(1, -1)"
   ]
  },
  {
   "cell_type": "code",
   "execution_count": 184,
   "metadata": {},
   "outputs": [
    {
     "data": {
      "text/plain": "DecisionTreeRegressor(ccp_alpha=0.0, criterion='mse', max_depth=None,\n                      max_features=None, max_leaf_nodes=None,\n                      min_impurity_decrease=0.0, min_impurity_split=None,\n                      min_samples_leaf=1, min_samples_split=2,\n                      min_weight_fraction_leaf=0.0, presort='deprecated',\n                      random_state=1234, splitter='best')"
     },
     "execution_count": 184,
     "metadata": {},
     "output_type": "execute_result"
    }
   ],
   "source": [
    "# Create a model to train, test on the given data\n",
    "rf_model = DecisionTreeRegressor(random_state=1234)\n",
    "rf_model.fit(train_X, train_y)"
   ]
  },
  {
   "cell_type": "code",
   "execution_count": 185,
   "metadata": {},
   "outputs": [
    {
     "name": "stdout",
     "output_type": "stream",
     "text": "X=[208500. 181500. 223500. ... 266500. 142125. 147500.], Predicted=[208500. 181500. 223500. ... 266500. 142125. 147500.]\n"
    }
   ],
   "source": [
    "test_y = rf_model.predict(test_X)\n",
    "mae = mean_absolute_error(test_y, train_y)\n",
    "\n",
    "# I can't understand how and why test_y, and train_y are getting back the exact same data\n",
    "# mae is returned as 0.0, in this case, not sure as to why\n",
    "for i in range(len(train_y)):\n",
    "    print(\"X=%s, Predicted=%s\" % ( train_y[i], test_y[i]))"
   ]
  }
 ]
}